{
 "cells": [
  {
   "cell_type": "code",
   "execution_count": 6,
   "metadata": {},
   "outputs": [],
   "source": [
    "import pandas as pd\n",
    "\n",
    "from results_extraction import highest_score_info_log_reg, highest_precision_info_log_reg, highest_Recall_info_log_reg, highest_ROC_AUC_info_log_reg, highest_score_info_Rand_Forest_Class, highest_precision_info_Rand_Forest_Class, highest_Recall_info_Rand_Forest_Class, highest_ROC_AUC_info_Rand_Forest_Class, highest_score_info_SVC, highest_precision_info_SVC, highest_Recall_info_SVC, highest_ROC_AUC_info_SVC"
   ]
  },
  {
   "cell_type": "markdown",
   "metadata": {},
   "source": [
    "#### Top combinations of preprocessing methods and vectorization methods for Logistic Regression model"
   ]
  },
  {
   "cell_type": "code",
   "execution_count": 7,
   "metadata": {},
   "outputs": [
    {
     "data": {
      "text/html": [
       "<div>\n",
       "<style scoped>\n",
       "    .dataframe tbody tr th:only-of-type {\n",
       "        vertical-align: middle;\n",
       "    }\n",
       "\n",
       "    .dataframe tbody tr th {\n",
       "        vertical-align: top;\n",
       "    }\n",
       "\n",
       "    .dataframe thead th {\n",
       "        text-align: right;\n",
       "    }\n",
       "</style>\n",
       "<table border=\"1\" class=\"dataframe\">\n",
       "  <thead>\n",
       "    <tr style=\"text-align: right;\">\n",
       "      <th></th>\n",
       "      <th>Preprocessing Flow and Vectorizer</th>\n",
       "      <th>Score Type</th>\n",
       "      <th>Score</th>\n",
       "    </tr>\n",
       "  </thead>\n",
       "  <tbody>\n",
       "    <tr>\n",
       "      <th>0</th>\n",
       "      <td>preprocessed_0_CountVectorizer</td>\n",
       "      <td>Score</td>\n",
       "      <td>1.0</td>\n",
       "    </tr>\n",
       "    <tr>\n",
       "      <th>1</th>\n",
       "      <td>preprocessed_0_CountVectorizer</td>\n",
       "      <td>Precision</td>\n",
       "      <td>1.0</td>\n",
       "    </tr>\n",
       "    <tr>\n",
       "      <th>2</th>\n",
       "      <td>preprocessed_0_CountVectorizer</td>\n",
       "      <td>Recall</td>\n",
       "      <td>1.0</td>\n",
       "    </tr>\n",
       "    <tr>\n",
       "      <th>3</th>\n",
       "      <td>preprocessed_0_CountVectorizer</td>\n",
       "      <td>ROC AUC</td>\n",
       "      <td>1.0</td>\n",
       "    </tr>\n",
       "  </tbody>\n",
       "</table>\n",
       "</div>"
      ],
      "text/plain": [
       "  Preprocessing Flow and Vectorizer Score Type  Score\n",
       "0    preprocessed_0_CountVectorizer      Score    1.0\n",
       "1    preprocessed_0_CountVectorizer  Precision    1.0\n",
       "2    preprocessed_0_CountVectorizer     Recall    1.0\n",
       "3    preprocessed_0_CountVectorizer    ROC AUC    1.0"
      ]
     },
     "execution_count": 7,
     "metadata": {},
     "output_type": "execute_result"
    }
   ],
   "source": [
    "prefix_to_remove = 'pipeline_gender_df_'\n",
    "suffix_to_remove = '_LogisticRegression'\n",
    "\n",
    "df = pd.DataFrame({\n",
    "    'Preprocessing Flow and Vectorizer': [f'{highest_score_info_log_reg[0].replace(prefix_to_remove, \"\").replace(suffix_to_remove, \"\")}', f'{highest_precision_info_log_reg[0].replace(prefix_to_remove, \"\").replace(suffix_to_remove, \"\")}', f'{highest_Recall_info_log_reg[0].replace(prefix_to_remove, \"\").replace(suffix_to_remove, \"\")}', f'{highest_ROC_AUC_info_log_reg[0].replace(prefix_to_remove, \"\").replace(suffix_to_remove, \"\")}'],\n",
    "    'Score Type': ['Score', 'Precision', 'Recall', 'ROC AUC'],\n",
    "    'Score': [highest_score_info_log_reg[1], highest_precision_info_log_reg[1], highest_Recall_info_log_reg[1], highest_ROC_AUC_info_log_reg[1]]\n",
    "}\n",
    ")\n",
    "\n",
    "df"
   ]
  },
  {
   "cell_type": "markdown",
   "metadata": {},
   "source": [
    "#### Top combinations of preprocessing methods and vectorization methods for Random Forest Classifier model"
   ]
  },
  {
   "cell_type": "code",
   "execution_count": 8,
   "metadata": {},
   "outputs": [
    {
     "data": {
      "text/html": [
       "<div>\n",
       "<style scoped>\n",
       "    .dataframe tbody tr th:only-of-type {\n",
       "        vertical-align: middle;\n",
       "    }\n",
       "\n",
       "    .dataframe tbody tr th {\n",
       "        vertical-align: top;\n",
       "    }\n",
       "\n",
       "    .dataframe thead th {\n",
       "        text-align: right;\n",
       "    }\n",
       "</style>\n",
       "<table border=\"1\" class=\"dataframe\">\n",
       "  <thead>\n",
       "    <tr style=\"text-align: right;\">\n",
       "      <th></th>\n",
       "      <th>Preprocessing Flow and Vectorizer</th>\n",
       "      <th>Score Type</th>\n",
       "      <th>Score</th>\n",
       "    </tr>\n",
       "  </thead>\n",
       "  <tbody>\n",
       "    <tr>\n",
       "      <th>0</th>\n",
       "      <td>preprocessed_0_CountVectorizer</td>\n",
       "      <td>Score</td>\n",
       "      <td>1.0</td>\n",
       "    </tr>\n",
       "    <tr>\n",
       "      <th>1</th>\n",
       "      <td>preprocessed_0_CountVectorizer</td>\n",
       "      <td>Precision</td>\n",
       "      <td>1.0</td>\n",
       "    </tr>\n",
       "    <tr>\n",
       "      <th>2</th>\n",
       "      <td>preprocessed_0_CountVectorizer</td>\n",
       "      <td>Recall</td>\n",
       "      <td>1.0</td>\n",
       "    </tr>\n",
       "    <tr>\n",
       "      <th>3</th>\n",
       "      <td>preprocessed_0_CountVectorizer</td>\n",
       "      <td>ROC AUC</td>\n",
       "      <td>1.0</td>\n",
       "    </tr>\n",
       "  </tbody>\n",
       "</table>\n",
       "</div>"
      ],
      "text/plain": [
       "  Preprocessing Flow and Vectorizer Score Type  Score\n",
       "0    preprocessed_0_CountVectorizer      Score    1.0\n",
       "1    preprocessed_0_CountVectorizer  Precision    1.0\n",
       "2    preprocessed_0_CountVectorizer     Recall    1.0\n",
       "3    preprocessed_0_CountVectorizer    ROC AUC    1.0"
      ]
     },
     "execution_count": 8,
     "metadata": {},
     "output_type": "execute_result"
    }
   ],
   "source": [
    "prefix_to_remove = 'pipeline_gender_df_'\n",
    "suffix_to_remove = '_RandomForestClassifier'\n",
    "\n",
    "df = pd.DataFrame({\n",
    "    'Preprocessing Flow and Vectorizer': [f'{highest_score_info_Rand_Forest_Class[0].replace(prefix_to_remove, \"\").replace(suffix_to_remove, \"\")}', f'{highest_precision_info_Rand_Forest_Class[0].replace(prefix_to_remove, \"\").replace(suffix_to_remove, \"\")}', f'{highest_Recall_info_Rand_Forest_Class[0].replace(prefix_to_remove, \"\").replace(suffix_to_remove, \"\")}', f'{highest_ROC_AUC_info_Rand_Forest_Class[0].replace(prefix_to_remove, \"\").replace(suffix_to_remove, \"\")}'],\n",
    "    'Score Type': ['Score', 'Precision', 'Recall', 'ROC AUC'],\n",
    "    'Score': [highest_score_info_Rand_Forest_Class[1], highest_precision_info_Rand_Forest_Class[1], highest_Recall_info_Rand_Forest_Class[1], highest_ROC_AUC_info_Rand_Forest_Class[1]]\n",
    "}\n",
    ")\n",
    "\n",
    "df"
   ]
  },
  {
   "cell_type": "markdown",
   "metadata": {},
   "source": [
    "#### Top combinations of preprocessing methods and vectorization methods for Support Vector Classifier model"
   ]
  },
  {
   "cell_type": "code",
   "execution_count": 10,
   "metadata": {},
   "outputs": [
    {
     "data": {
      "text/html": [
       "<div>\n",
       "<style scoped>\n",
       "    .dataframe tbody tr th:only-of-type {\n",
       "        vertical-align: middle;\n",
       "    }\n",
       "\n",
       "    .dataframe tbody tr th {\n",
       "        vertical-align: top;\n",
       "    }\n",
       "\n",
       "    .dataframe thead th {\n",
       "        text-align: right;\n",
       "    }\n",
       "</style>\n",
       "<table border=\"1\" class=\"dataframe\">\n",
       "  <thead>\n",
       "    <tr style=\"text-align: right;\">\n",
       "      <th></th>\n",
       "      <th>Preprocessing Flow and Vectorizer</th>\n",
       "      <th>Score Type</th>\n",
       "      <th>Score</th>\n",
       "    </tr>\n",
       "  </thead>\n",
       "  <tbody>\n",
       "    <tr>\n",
       "      <th>0</th>\n",
       "      <td>preprocessed_3_TfidfVectorizer</td>\n",
       "      <td>Score</td>\n",
       "      <td>0.977500</td>\n",
       "    </tr>\n",
       "    <tr>\n",
       "      <th>1</th>\n",
       "      <td>preprocessed_3_TfidfVectorizer</td>\n",
       "      <td>Precision</td>\n",
       "      <td>0.977500</td>\n",
       "    </tr>\n",
       "    <tr>\n",
       "      <th>2</th>\n",
       "      <td>preprocessed_3_TfidfVectorizer</td>\n",
       "      <td>Recall</td>\n",
       "      <td>0.977500</td>\n",
       "    </tr>\n",
       "    <tr>\n",
       "      <th>3</th>\n",
       "      <td>preprocessed_14_TfidfVectorizer</td>\n",
       "      <td>ROC AUC</td>\n",
       "      <td>0.996466</td>\n",
       "    </tr>\n",
       "  </tbody>\n",
       "</table>\n",
       "</div>"
      ],
      "text/plain": [
       "  Preprocessing Flow and Vectorizer Score Type     Score\n",
       "0    preprocessed_3_TfidfVectorizer      Score  0.977500\n",
       "1    preprocessed_3_TfidfVectorizer  Precision  0.977500\n",
       "2    preprocessed_3_TfidfVectorizer     Recall  0.977500\n",
       "3   preprocessed_14_TfidfVectorizer    ROC AUC  0.996466"
      ]
     },
     "execution_count": 10,
     "metadata": {},
     "output_type": "execute_result"
    }
   ],
   "source": [
    "prefix_to_remove = 'pipeline_gender_df_'\n",
    "suffix_to_remove = '_SVC'\n",
    "\n",
    "df = pd.DataFrame({\n",
    "    'Preprocessing Flow and Vectorizer': [f'{highest_score_info_SVC[0].replace(prefix_to_remove, \"\").replace(suffix_to_remove, \"\")}', \n",
    "                                          f'{highest_precision_info_SVC[0].replace(prefix_to_remove, \"\").replace(suffix_to_remove, \"\")}', \n",
    "                                          f'{highest_Recall_info_SVC[0].replace(prefix_to_remove, \"\").replace(suffix_to_remove, \"\")}', \n",
    "                                          f'{highest_ROC_AUC_info_SVC[0][0].replace(prefix_to_remove, \"\").replace(suffix_to_remove, \"\")}'],\n",
    "    'Score Type': ['Score', 'Precision', 'Recall', 'ROC AUC'],\n",
    "    'Score': [highest_score_info_SVC[1], highest_precision_info_SVC[1], highest_Recall_info_SVC[1], highest_ROC_AUC_info_SVC[1]]\n",
    "}\n",
    ")\n",
    "\n",
    "df"
   ]
  },
  {
   "cell_type": "markdown",
   "metadata": {},
   "source": [
    "#### Our Base Case\n",
    "pipeline_gender_df_preprocessed_0_TfidfVectorizer_RandomForestClassifier,\"['Score: 0.7771927859303237', 'precision: 0.7535097813578826', 'Recall: 0.7810114503816794', 'ROC AUC: 0.8633103381913153']\"\n",
    "\n",
    "The row above says: \n",
    "Our base case is Logistic Regression model which is fitted wihtout preprocessing text and with TfidfVectorizer\n",
    "The result of this run:\n",
    "- Score: 0.7771927859303237\n",
    "- Precision: 0.7535097813578826\n",
    "- Recall: 0.7810114503816794\n",
    "- ROC AUC: 0.8633103381913153"
   ]
  },
  {
   "cell_type": "markdown",
   "metadata": {},
   "source": [
    "#### Now let's have a look what was the fasttext scores"
   ]
  },
  {
   "cell_type": "code",
   "execution_count": null,
   "metadata": {},
   "outputs": [],
   "source": [
    "from results_extraction import best_results"
   ]
  },
  {
   "cell_type": "code",
   "execution_count": 3,
   "metadata": {},
   "outputs": [
    {
     "data": {
      "text/html": [
       "<div>\n",
       "<style scoped>\n",
       "    .dataframe tbody tr th:only-of-type {\n",
       "        vertical-align: middle;\n",
       "    }\n",
       "\n",
       "    .dataframe tbody tr th {\n",
       "        vertical-align: top;\n",
       "    }\n",
       "\n",
       "    .dataframe thead th {\n",
       "        text-align: right;\n",
       "    }\n",
       "</style>\n",
       "<table border=\"1\" class=\"dataframe\">\n",
       "  <thead>\n",
       "    <tr style=\"text-align: right;\">\n",
       "      <th></th>\n",
       "      <th>Preprocessing flow</th>\n",
       "      <th>Accuracy</th>\n",
       "      <th>Precision</th>\n",
       "      <th>Recall</th>\n",
       "      <th>F1</th>\n",
       "      <th>ROC_AUC</th>\n",
       "    </tr>\n",
       "  </thead>\n",
       "  <tbody>\n",
       "    <tr>\n",
       "      <th>6</th>\n",
       "      <td>processing_flow_14</td>\n",
       "      <td>0.886412</td>\n",
       "      <td>0.886430</td>\n",
       "      <td>0.869513</td>\n",
       "      <td>0.877890</td>\n",
       "      <td>0.885443</td>\n",
       "    </tr>\n",
       "    <tr>\n",
       "      <th>3</th>\n",
       "      <td>processing_flow_11</td>\n",
       "      <td>0.885740</td>\n",
       "      <td>0.887396</td>\n",
       "      <td>0.866651</td>\n",
       "      <td>0.876901</td>\n",
       "      <td>0.884645</td>\n",
       "    </tr>\n",
       "    <tr>\n",
       "      <th>6</th>\n",
       "      <td>processing_flow_14</td>\n",
       "      <td>0.886412</td>\n",
       "      <td>0.886430</td>\n",
       "      <td>0.869513</td>\n",
       "      <td>0.877890</td>\n",
       "      <td>0.885443</td>\n",
       "    </tr>\n",
       "    <tr>\n",
       "      <th>6</th>\n",
       "      <td>processing_flow_14</td>\n",
       "      <td>0.886412</td>\n",
       "      <td>0.886430</td>\n",
       "      <td>0.869513</td>\n",
       "      <td>0.877890</td>\n",
       "      <td>0.885443</td>\n",
       "    </tr>\n",
       "    <tr>\n",
       "      <th>6</th>\n",
       "      <td>processing_flow_14</td>\n",
       "      <td>0.886412</td>\n",
       "      <td>0.886430</td>\n",
       "      <td>0.869513</td>\n",
       "      <td>0.877890</td>\n",
       "      <td>0.885443</td>\n",
       "    </tr>\n",
       "  </tbody>\n",
       "</table>\n",
       "</div>"
      ],
      "text/plain": [
       "   Preprocessing flow  Accuracy  Precision    Recall        F1   ROC_AUC\n",
       "6  processing_flow_14  0.886412   0.886430  0.869513  0.877890  0.885443\n",
       "3  processing_flow_11  0.885740   0.887396  0.866651  0.876901  0.884645\n",
       "6  processing_flow_14  0.886412   0.886430  0.869513  0.877890  0.885443\n",
       "6  processing_flow_14  0.886412   0.886430  0.869513  0.877890  0.885443\n",
       "6  processing_flow_14  0.886412   0.886430  0.869513  0.877890  0.885443"
      ]
     },
     "execution_count": 3,
     "metadata": {},
     "output_type": "execute_result"
    }
   ],
   "source": [
    "best_results"
   ]
  },
  {
   "cell_type": "code",
   "execution_count": null,
   "metadata": {},
   "outputs": [],
   "source": []
  }
 ],
 "metadata": {
  "kernelspec": {
   "display_name": ".venv",
   "language": "python",
   "name": "python3"
  },
  "language_info": {
   "codemirror_mode": {
    "name": "ipython",
    "version": 3
   },
   "file_extension": ".py",
   "mimetype": "text/x-python",
   "name": "python",
   "nbconvert_exporter": "python",
   "pygments_lexer": "ipython3",
   "version": "3.9.16"
  }
 },
 "nbformat": 4,
 "nbformat_minor": 2
}
